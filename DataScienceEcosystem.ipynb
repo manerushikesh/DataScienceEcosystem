{
 "cells": [
  {
   "cell_type": "markdown",
   "metadata": {},
   "source": [
    "<center>\n",
    "    <img src=\"https://cf-courses-data.s3.us.cloud-object-storage.appdomain.cloud/IBMDeveloperSkillsNetwork-DS0105EN-SkillsNetwork/labs/Module2/images/SN_web_lightmode.png\" width=\"300\" alt=\"cognitiveclass.ai logo\">\n",
    "</center>\n"
   ]
  },
  {
   "cell_type": "markdown",
   "metadata": {},
   "source": [
    "#### Add your code below following the instructions given in the course\n"
   ]
  },
  {
   "cell_type": "markdown",
   "metadata": {},
   "source": [
    "# Data Science Tools and Ecosystem\n"
   ]
  },
  {
   "cell_type": "markdown",
   "metadata": {},
   "source": [
    "In this notebook , Data Science Tools and Ecosystem are summarized . \n",
    "\n",
    "Data Science has evolved with a rich toolkit and ecosystem that supports every stage of the data life-cycle , from acquisition to visualization.Key tools include programming languages like Python and R , which offer powerful libraries such as pandas , NumPy and scikit-learn for data manipulation and machine learning . Data storage solutions such as SQL and NoSQL databases manage large datasets ,while cloud platforms such as AWS and Google Cloud provide scalable computing resources and services for data processing . Visualization tools like Tableau and Matplotlib help in presenting insights effectively . This ecosystem fosters innovation and efficient in extracting actionable insights from complex datasets , making data science a cornerstone of modern decision-making progress"
   ]
  },
  {
   "cell_type": "markdown",
   "metadata": {},
   "source": [
    "## Introduction\n",
    "\n",
    "This notebook explores various aspects of data science tools and ecosystems.\n",
    "\n",
    "**Objectives:**\n",
    "\n",
    "- To list Data Science languages .\n",
    "- To list Data Science libraries .\n",
    "- To list Data Science Tools .\n",
    "- To introduce and understand arithmetic expression with examples .\n",
    "- To create code cell to convert minutes to hours\n",
    "- To create code cell to multiply and add numbers \n"
   ]
  },
  {
   "cell_type": "markdown",
   "metadata": {},
   "source": [
    "Some of the popular languages that Data Scientists use are :\n",
    "\n",
    "1. **Python**\n",
    "    - Extensive libraries for data analysis (pandas, NumPy)\n",
    "    - Machine learning (scikit-learn, TensorFlow)\n",
    "    - Visualization (Matplotlib, Seaborn)\n",
    "2. **R**\n",
    "    - Strong statistical analysis capabilities\n",
    "    - Packages like ggplot2 for visualization and dplyr for data manipulation\n",
    "3. **SQL**\n",
    "    - Essential for database querying and management\n",
    "    - Efficient extraction and manipulation of data stored in relational databases\n",
    "4. **Julia**\n",
    "    - High performance, especially in numerical and scientific computing\n",
    "    - Combines the ease of Python with the speed of C\n",
    "5. **SAS**\n",
    "    - Robust statistical analysis capabilities\n",
    "    - Known for its reliability and support in enterprise environments\n",
    "6. **Scala**\n",
    "    - Often used with Apache Spark\n",
    "    - Preferred for big data processing due to its scalability and functional programming features\n"
   ]
  },
  {
   "cell_type": "markdown",
   "metadata": {},
   "source": [
    "Commonly Used Libraries by Data Scientists\n",
    "\n",
    "1. **Pandas**: For data manipulation and analysis, providing data structures like DataFrames.\n",
    "2. **NumPy**: For numerical computing, offering support for arrays and matrices along with a collection of mathematical functions.\n",
    "3. **scikit-learn**: For machine learning, providing simple and efficient tools for data mining and data analysis.\n",
    "4. **Matplotlib**: For creating static, animated, and interactive visualizations in Python.\n",
    "5. **Seaborn**: Built on top of Matplotlib, it provides a high-level interface for drawing attractive and informative statistical graphics.\n",
    "6. **TensorFlow**: An open-source platform for machine learning, particularly deep learning.\n",
    "7. **Keras**: A user-friendly neural network library built on top of TensorFlow.\n",
    "8. **PyTorch**: An open-source machine learning library for deep learning, favored for its flexibility and dynamic computation graph.\n",
    "9. **SciPy**: For scientific and technical computing, building on NumPy.\n",
    "10. **NLTK**: The Natural Language Toolkit, used for working with human language data (text).\n",
    "11. **Beautiful Soup**: For web scraping purposes to pull data out of HTML and XML files.\n",
    "12. **Statsmodels**: For estimating and testing statistical models.\n",
    "13. **Plotly**: For creating interactive plots and dashboards.\n",
    "\n",
    "These libraries form the backbone of many data science workflows, enabling practitioners to perform a wide range of tasks from data cleaning and visualization to advanced machine learning and statistical analysis.\n"
   ]
  },
  {
   "cell_type": "markdown",
   "metadata": {},
   "source": [
    "The table below shows three of the most used development environment open source tools\n",
    "\n",
    "| Data Science Tools        |\n",
    "|---------------------------|\n",
    "| Jupyter Notebook          |\n",
    "| RStudio                   |\n",
    "| VS Code with Python       |\n"
   ]
  },
  {
   "cell_type": "markdown",
   "metadata": {},
   "source": [
    "### Introduction to Arithmetic Expressions in Python\n",
    "\n",
    "Arithmetic expressions in Python allow you to perform various mathematical operations, such as addition, subtraction, multiplication, division, and more. These expressions follow standard mathematical rules for evaluation.\n",
    "\n",
    "Below are a few examples of evaluating arithmetic expressions in Python:\n",
    "\n",
    "- Addition :\n",
    "    3 + 2 = 5\n",
    "- Subtraction :\n",
    "    3 - 2 = 1 \n",
    "- Multiplication :\n",
    "    3 * 2 = 6\n",
    "- Division :\n",
    "    3 / 2 = 1.5\n",
    "\n"
   ]
  },
  {
   "cell_type": "code",
   "execution_count": 3,
   "metadata": {
    "tags": []
   },
   "outputs": [
    {
     "data": {
      "text/plain": [
       "17"
      ]
     },
     "execution_count": 3,
     "metadata": {},
     "output_type": "execute_result"
    }
   ],
   "source": [
    "# This is a simple arithmetic expression to multiply then add integers.\n",
    "result = (3 * 4) + 5\n",
    "result\n"
   ]
  },
  {
   "cell_type": "code",
   "execution_count": 6,
   "metadata": {
    "tags": []
   },
   "outputs": [
    {
     "data": {
      "text/plain": [
       "3.3333333333333335"
      ]
     },
     "execution_count": 6,
     "metadata": {},
     "output_type": "execute_result"
    }
   ],
   "source": [
    "# Convert 200 minutes to hours by dividing by 60\n",
    "minutes = 200\n",
    "hours = minutes / 60\n",
    "hours\n"
   ]
  },
  {
   "cell_type": "markdown",
   "metadata": {
    "tags": []
   },
   "source": [
    "## Author\n",
    "\n",
    "Rushikesh Mane"
   ]
  }
 ],
 "metadata": {
  "kernelspec": {
   "display_name": "Python",
   "language": "python",
   "name": "conda-env-python-py"
  },
  "language_info": {
   "codemirror_mode": {
    "name": "ipython",
    "version": 3
   },
   "file_extension": ".py",
   "mimetype": "text/x-python",
   "name": "python",
   "nbconvert_exporter": "python",
   "pygments_lexer": "ipython3",
   "version": "3.7.12"
  }
 },
 "nbformat": 4,
 "nbformat_minor": 4
}
